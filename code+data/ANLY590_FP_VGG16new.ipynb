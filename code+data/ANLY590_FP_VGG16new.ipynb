{
 "cells": [
  {
   "cell_type": "code",
   "execution_count": 95,
   "metadata": {},
   "outputs": [],
   "source": [
    "import numpy as np\n",
    "import pandas as pd\n",
    "import os\n",
    "from glob import glob\n",
    "import matplotlib.pyplot as plt\n",
    "from keras.layers import Input, Lambda, Dense, Flatten\n",
    "from keras.models import Model\n",
    "from keras.applications.vgg16 import VGG16\n",
    "from keras.applications.vgg16 import preprocess_input\n",
    "from keras.preprocessing import image\n",
    "from keras.preprocessing.image import ImageDataGenerator\n",
    "from sklearn.metrics import confusion_matrix\n",
    "import tensorflow.keras as tfk\n",
    "from tensorflow import keras\n",
    "from keras.layers import Activation, Dense, Flatten, Dropout\n",
    "\n",
    "tfkl = tfk.layers"
   ]
  },
  {
   "cell_type": "markdown",
   "metadata": {},
   "source": [
    "# Data Preprocessing"
   ]
  },
  {
   "cell_type": "code",
   "execution_count": 50,
   "metadata": {},
   "outputs": [],
   "source": [
    "train_path='fruits5/train'\n",
    "test_path='fruits5/test'"
   ]
  },
  {
   "cell_type": "code",
   "execution_count": 66,
   "metadata": {},
   "outputs": [],
   "source": [
    "conv_base = VGG16(weights='imagenet',include_top=False,input_shape=[100,100,3])\n",
    "\n",
    "for layer in conv_base.layers:\n",
    "  layer.trainable = False\n",
    "\n",
    "image_files = glob(train_path + '/*/*.jp*g')\n",
    "valid_image_files = glob(test_path + '/*/*.jp*g')"
   ]
  },
  {
   "cell_type": "markdown",
   "metadata": {},
   "source": [
    "# Build a VGG16 Model"
   ]
  },
  {
   "cell_type": "code",
   "execution_count": 96,
   "metadata": {},
   "outputs": [
    {
     "name": "stdout",
     "output_type": "stream",
     "text": [
      "Model: \"sequential_9\"\n",
      "_________________________________________________________________\n",
      "Layer (type)                 Output Shape              Param #   \n",
      "=================================================================\n",
      "vgg16 (Functional)           (None, 3, 3, 512)         14714688  \n",
      "_________________________________________________________________\n",
      "flatten_9 (Flatten)          (None, 4608)              0         \n",
      "_________________________________________________________________\n",
      "dropout (Dropout)            (None, 4608)              0         \n",
      "_________________________________________________________________\n",
      "dense_7 (Dense)              (None, 5)                 23045     \n",
      "=================================================================\n",
      "Total params: 14,737,733\n",
      "Trainable params: 23,045\n",
      "Non-trainable params: 14,714,688\n",
      "_________________________________________________________________\n"
     ]
    }
   ],
   "source": [
    "model = tfk.Sequential()\n",
    "model.add(conv_base)\n",
    "model.add(tfkl.Flatten())\n",
    "model.add(Dropout(0.5))\n",
    "model.add(tfkl.Dense(5, activation = 'softmax'))\n",
    "\n",
    "model.summary()"
   ]
  },
  {
   "cell_type": "markdown",
   "metadata": {},
   "source": [
    "# Data Augmentation"
   ]
  },
  {
   "cell_type": "code",
   "execution_count": 97,
   "metadata": {},
   "outputs": [
    {
     "name": "stdout",
     "output_type": "stream",
     "text": [
      "Found 2406 images belonging to 5 classes.\n",
      "Found 808 images belonging to 5 classes.\n"
     ]
    }
   ],
   "source": [
    "\n",
    "datagen = ImageDataGenerator(rotation_range=20,width_shift_range=0.1,height_shift_range=0.1,\n",
    "  shear_range=0.1,zoom_range=0.2,horizontal_flip=True,vertical_flip=True,\n",
    "   preprocessing_function=preprocess_input)\n",
    "\n",
    "train_gen = datagen.flow_from_directory(train_path,target_size=[100,100],\n",
    "  shuffle=True,batch_size=128)\n",
    "\n",
    "valid_gen = datagen.flow_from_directory(test_path,target_size=[100,100],\n",
    "  shuffle=False,batch_size=128)"
   ]
  },
  {
   "cell_type": "markdown",
   "metadata": {},
   "source": [
    "# Compile Model"
   ]
  },
  {
   "cell_type": "code",
   "execution_count": 98,
   "metadata": {},
   "outputs": [],
   "source": [
    "opt = keras.optimizers.Adam(learning_rate=0.01)\n",
    "model.compile(loss='categorical_crossentropy',optimizer=opt, metrics=['accuracy'])\n"
   ]
  },
  {
   "cell_type": "markdown",
   "metadata": {},
   "source": [
    "# Fit Model"
   ]
  },
  {
   "cell_type": "code",
   "execution_count": 100,
   "metadata": {},
   "outputs": [
    {
     "name": "stdout",
     "output_type": "stream",
     "text": [
      "Epoch 1/15\n",
      "18/18 [==============================] - 66s 4s/step - loss: 2.5665 - accuracy: 0.9201 - val_loss: 1.1023 - val_accuracy: 0.9792\n",
      "Epoch 2/15\n",
      "18/18 [==============================] - 75s 4s/step - loss: 0.0077 - accuracy: 0.9996 - val_loss: 0.8631 - val_accuracy: 0.9831\n",
      "Epoch 3/15\n",
      "18/18 [==============================] - 74s 4s/step - loss: 0.0042 - accuracy: 0.9996 - val_loss: 0.8764 - val_accuracy: 0.9818\n",
      "Epoch 4/15\n",
      "18/18 [==============================] - 75s 4s/step - loss: 0.0000e+00 - accuracy: 1.0000 - val_loss: 0.5762 - val_accuracy: 0.9831\n",
      "Epoch 5/15\n",
      "18/18 [==============================] - 73s 4s/step - loss: 0.0000e+00 - accuracy: 1.0000 - val_loss: 1.2696 - val_accuracy: 0.9805\n",
      "Epoch 6/15\n",
      "18/18 [==============================] - 72s 4s/step - loss: 0.0000e+00 - accuracy: 1.0000 - val_loss: 0.6599 - val_accuracy: 0.9870\n",
      "Epoch 7/15\n",
      "18/18 [==============================] - 74s 4s/step - loss: 0.0000e+00 - accuracy: 1.0000 - val_loss: 0.7064 - val_accuracy: 0.9870\n"
     ]
    }
   ],
   "source": [
    "callback = keras.callbacks.EarlyStopping(monitor='val_loss', patience=3)\n",
    "\n",
    "result = model.fit_generator(\n",
    "  train_gen,\n",
    "  validation_data=valid_gen,\n",
    "  epochs=15,\n",
    "  callbacks=[callback],\n",
    "  steps_per_epoch=len(image_files) // 128,\n",
    "  validation_steps=len(valid_image_files) //128 )"
   ]
  },
  {
   "cell_type": "markdown",
   "metadata": {},
   "source": [
    "# Results and Plots"
   ]
  },
  {
   "cell_type": "code",
   "execution_count": 58,
   "metadata": {},
   "outputs": [
    {
     "name": "stdout",
     "output_type": "stream",
     "text": [
      "dict_keys(['loss', 'accuracy', 'val_loss', 'val_accuracy'])\n"
     ]
    }
   ],
   "source": [
    "history_dict = result.history\n",
    "print(history_dict.keys())"
   ]
  },
  {
   "cell_type": "code",
   "execution_count": 101,
   "metadata": {},
   "outputs": [
    {
     "data": {
      "image/png": "[encoded data removed]",
      "text/plain": [
       "<Figure size 432x288 with 1 Axes>"
      ]
     },
     "metadata": {
      "needs_background": "light"
     },
     "output_type": "display_data"
    },
    {
     "data": {
      "image/png": "[encoded data removed]",
      "text/plain": [
       "<Figure size 432x288 with 1 Axes>"
      ]
     },
     "metadata": {
      "needs_background": "light"
     },
     "output_type": "display_data"
    },
    {
     "data": {
      "text/plain": [
       "[0.9791666865348816,\n",
       " 0.9830729365348816,\n",
       " 0.9817708134651184,\n",
       " 0.9830729365348816,\n",
       " 0.98046875,\n",
       " 0.9869791865348816,\n",
       " 0.9869791865348816]"
      ]
     },
     "execution_count": 101,
     "metadata": {},
     "output_type": "execute_result"
    }
   ],
   "source": [
    "# plot loss\n",
    "plt.plot(result.history['loss'], label='train loss')\n",
    "plt.plot(result.history['val_loss'], label='val loss')\n",
    "plt.legend()\n",
    "plt.title('Train and Validation Loss')\n",
    "plt.show()\n",
    "\n",
    "# plot train\n",
    "plt.plot(result.history['accuracy'], label='train acc')\n",
    "plt.plot(result.history['val_accuracy'], label='val acc')\n",
    "plt.legend()\n",
    "plt.title('Train and Validation Accuracy')\n",
    "plt.show()\n"
   ]
  },
  {
   "cell_type": "code",
   "execution_count": 102,
   "metadata": {},
   "outputs": [
    {
     "name": "stdout",
     "output_type": "stream",
     "text": [
      "Final training accuracy = 1.0\n",
      "Final validation accuracy = 0.9869791865348816\n"
     ]
    }
   ],
   "source": [
    "print(\"Final training accuracy = {}\".format(result.history[\"accuracy\"][-1]))\n",
    "print(\"Final validation accuracy = {}\".format(result.history[\"val_accuracy\"][-1]))"
   ]
  }
 ],
 "metadata": {
  "kernelspec": {
   "display_name": "Python 3",
   "language": "python",
   "name": "python3"
  },
  "language_info": {
   "codemirror_mode": {
    "name": "ipython",
    "version": 3
   },
   "file_extension": ".py",
   "mimetype": "text/x-python",
   "name": "python",
   "nbconvert_exporter": "python",
   "pygments_lexer": "ipython3",
   "version": "3.7.3"
  }
 },
 "nbformat": 4,
 "nbformat_minor": 4
}
