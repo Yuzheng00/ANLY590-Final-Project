{
 "cells": [
  {
   "cell_type": "code",
   "execution_count": 11,
   "metadata": {},
   "outputs": [],
   "source": [
    "import numpy as np\n",
    "import pandas as pd\n",
    "import os\n",
    "from glob import glob\n",
    "import matplotlib.pyplot as plt\n",
    "from keras.layers import Input, Lambda, Dense, Flatten\n",
    "from keras.models import Model\n",
    "from keras.applications.vgg16 import VGG16\n",
    "from keras.applications.vgg16 import preprocess_input\n",
    "from keras.preprocessing import image\n",
    "from keras.preprocessing.image import ImageDataGenerator\n",
    "from sklearn.metrics import confusion_matrix\n",
    "import tensorflow.keras as tfk\n",
    "\n",
    "tfkl = tfk.layers"
   ]
  },
  {
   "cell_type": "markdown",
   "metadata": {},
   "source": [
    "# Data Preprocessing"
   ]
  },
  {
   "cell_type": "code",
   "execution_count": 12,
   "metadata": {},
   "outputs": [],
   "source": [
    "train_path='fruits5/train'\n",
    "test_path='fruits5/test'"
   ]
  },
  {
   "cell_type": "code",
   "execution_count": 13,
   "metadata": {},
   "outputs": [],
   "source": [
    "conv_base = VGG16(weights='imagenet',include_top=False,input_shape=[100,100,3])\n",
    "\n",
    "for layer in conv_base.layers:\n",
    "  layer.trainable = False"
   ]
  },
  {
   "cell_type": "code",
   "execution_count": 14,
   "metadata": {},
   "outputs": [
    {
     "name": "stdout",
     "output_type": "stream",
     "text": [
      "Model: \"sequential_2\"\n",
      "_________________________________________________________________\n",
      "Layer (type)                 Output Shape              Param #   \n",
      "=================================================================\n",
      "vgg16 (Functional)           (None, 3, 3, 512)         14714688  \n",
      "_________________________________________________________________\n",
      "flatten_3 (Flatten)          (None, 4608)              0         \n",
      "_________________________________________________________________\n",
      "dense_2 (Dense)              (None, 3)                 13827     \n",
      "=================================================================\n",
      "Total params: 14,728,515\n",
      "Trainable params: 13,827\n",
      "Non-trainable params: 14,714,688\n",
      "_________________________________________________________________\n"
     ]
    }
   ],
   "source": [
    "# Create Model\n",
    "model = tfk.Sequential()\n",
    "model.add(conv_base)\n",
    "model.add(tfkl.Flatten())\n",
    "model.add(tfkl.Dense(3, activation = 'softmax'))\n",
    "\n",
    "model.summary()"
   ]
  },
  {
   "cell_type": "code",
   "execution_count": 16,
   "metadata": {},
   "outputs": [],
   "source": [
    "# Configure model\n",
    "model.compile(\n",
    "  loss='categorical_crossentropy',\n",
    "  optimizer='adam',\n",
    "  metrics=['accuracy'])\n",
    "\n",
    "datagen = ImageDataGenerator(width_shift_range=0.1, height_shift_range=0.1,  horizontal_flip=True)\n",
    "it_gen = datagen.flow(X_train, Y_train, batch_size=256)"
   ]
  },
  {
   "cell_type": "code",
   "execution_count": 11,
   "metadata": {},
   "outputs": [],
   "source": [
    "# Create an instance of ImageDataGenerator\n",
    "datagen = ImageDataGenerator(width_shift_range=0.1,height_shift_range=0.1,shear_range=0.1)\n",
    "train_gen = datagen.flow(train_path, batch_size=256,subset='training')\n",
    "valid_gen = datagen.flow(train_path,\n",
    "  target_size=[100,100],\n",
    "  shuffle=False,\n",
    "  batch_size=120,\n",
    "  subset='validation')"
   ]
  },
  {
   "cell_type": "code",
   "execution_count": 13,
   "metadata": {},
   "outputs": [
    {
     "name": "stdout",
     "output_type": "stream",
     "text": [
      "Found 1926 images belonging to 5 classes.\n",
      "Found 480 images belonging to 5 classes.\n",
      "Epoch 1/10\n",
      "10/10 [==============================] - ETA: 0s - loss: 0.2086 - accuracy: 0.9761WARNING:tensorflow:Your input ran out of data; interrupting training. Make sure that your dataset or generator can generate at least `steps_per_epoch * epochs` batches (in this case, 80 batches). You may need to use the repeat() function when building your dataset.\n",
      "10/10 [==============================] - 36s 4s/step - loss: 0.2086 - accuracy: 0.9761 - val_loss: 0.1948 - val_accuracy: 0.9917\n",
      "Epoch 2/10\n",
      "10/10 [==============================] - 28s 3s/step - loss: 0.1250 - accuracy: 0.9958\n",
      "Epoch 3/10\n",
      "10/10 [==============================] - 28s 3s/step - loss: 0.0810 - accuracy: 0.9983\n",
      "Epoch 4/10\n",
      "10/10 [==============================] - 25s 3s/step - loss: 0.0631 - accuracy: 0.9954\n",
      "Epoch 5/10\n",
      "10/10 [==============================] - 25s 3s/step - loss: 0.0402 - accuracy: 0.9991\n",
      "Epoch 6/10\n",
      "10/10 [==============================] - 25s 3s/step - loss: 0.0317 - accuracy: 0.9982\n",
      "Epoch 7/10\n",
      "10/10 [==============================] - 30s 3s/step - loss: 0.0212 - accuracy: 1.0000\n",
      "Epoch 8/10\n",
      "10/10 [==============================] - 29s 3s/step - loss: 0.0172 - accuracy: 0.9983\n",
      "Epoch 9/10\n",
      "10/10 [==============================] - 26s 3s/step - loss: 0.0140 - accuracy: 1.0000\n",
      "Epoch 10/10\n",
      "10/10 [==============================] - 31s 3s/step - loss: 0.0094 - accuracy: 1.0000\n"
     ]
    }
   ],
   "source": [
    "# Create generators for training and validation by splitting the training file into 80% training and 20% validation set\n",
    "train_generator = gen.flow_from_directory(\n",
    "  train_path,\n",
    "  target_size=[100,100],\n",
    "  shuffle=True,\n",
    "  batch_size=120,\n",
    "  subset='training')\n",
    "\n",
    "valid_generator = gen.flow_from_directory(\n",
    "  train_path,\n",
    "  target_size=[100,100],\n",
    "  shuffle=False,\n",
    "  batch_size=120,\n",
    "  subset='validation')\n",
    "\n",
    "# Fitting the VGG16 model \n",
    "r = model.fit_generator(\n",
    "  train_generator,\n",
    "  validation_data=valid_generator,\n",
    "  epochs=10,\n",
    "  steps_per_epoch=10,\n",
    "  validation_steps=80)"
   ]
  },
  {
   "cell_type": "code",
   "execution_count": 14,
   "metadata": {},
   "outputs": [
    {
     "data": {
      "image/png": "[encoded data removed]",
      "text/plain": [
       "<Figure size 432x288 with 1 Axes>"
      ]
     },
     "metadata": {
      "needs_background": "light"
     },
     "output_type": "display_data"
    },
    {
     "data": {
      "image/png": "[encoded data removed]",
      "text/plain": [
       "<Figure size 432x288 with 1 Axes>"
      ]
     },
     "metadata": {
      "needs_background": "light"
     },
     "output_type": "display_data"
    }
   ],
   "source": [
    "# Plot the train and validation loss\n",
    "plt.plot(r.history['loss'], label='train loss')\n",
    "plt.plot(r.history['val_loss'], label='val loss')\n",
    "plt.legend()\n",
    "plt.title('Train and Validation Loss')\n",
    "plt.show()\n",
    "\n",
    "# Plot the train and validation accuracies\n",
    "plt.plot(r.history['accuracy'], label='train acc')\n",
    "plt.plot(r.history['val_accuracy'], label='val acc')\n",
    "plt.legend()\n",
    "plt.title('Train and Validation Accuracy')\n",
    "plt.show()"
   ]
  },
  {
   "cell_type": "code",
   "execution_count": 15,
   "metadata": {},
   "outputs": [
    {
     "name": "stdout",
     "output_type": "stream",
     "text": [
      "Final training accuracy = 1.0\n",
      "Final validation accuracy = 0.9916666746139526\n"
     ]
    }
   ],
   "source": [
    "print(\"Final training accuracy = {}\".format(r.history[\"accuracy\"][-1]))\n",
    "print(\"Final validation accuracy = {}\".format(r.history[\"val_accuracy\"][-1]))"
   ]
  },
  {
   "cell_type": "code",
   "execution_count": null,
   "metadata": {},
   "outputs": [],
   "source": []
  }
 ],
 "metadata": {
  "kernelspec": {
   "display_name": "Python 3",
   "language": "python",
   "name": "python3"
  },
  "language_info": {
   "codemirror_mode": {
    "name": "ipython",
    "version": 3
   },
   "file_extension": ".py",
   "mimetype": "text/x-python",
   "name": "python",
   "nbconvert_exporter": "python",
   "pygments_lexer": "ipython3",
   "version": "3.7.3"
  }
 },
 "nbformat": 4,
 "nbformat_minor": 4
}
